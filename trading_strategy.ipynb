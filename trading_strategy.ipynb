{
 "cells": [
  {
   "cell_type": "code",
   "execution_count": 100,
   "metadata": {},
   "outputs": [],
   "source": [
    "import pandas as pd\n",
    "import numpy as np\n",
    "import matplotlib.pyplot as plt\n",
    "import seaborn as sns"
   ]
  },
  {
   "cell_type": "code",
   "execution_count": 12,
   "metadata": {
    "scrolled": true
   },
   "outputs": [],
   "source": [
    "msft = pd.read_csv(filepath_or_buffer=\"/Users/g01289358/Downloads/MSFT.csv\", parse_dates=True)"
   ]
  },
  {
   "cell_type": "code",
   "execution_count": 14,
   "metadata": {},
   "outputs": [],
   "source": [
    "msft.set_index(\"Date\", inplace=True)"
   ]
  },
  {
   "cell_type": "code",
   "execution_count": 80,
   "metadata": {},
   "outputs": [],
   "source": [
    "msft.index = pd.to_datetime(msft.index, infer_datetime_format=True)\n",
    "msft_adjclose = msft['Adj Close']"
   ]
  },
  {
   "cell_type": "code",
   "execution_count": 115,
   "metadata": {},
   "outputs": [],
   "source": [
    "msft_adj_sample = msft_adjclose[\"2006-12-31\":] "
   ]
  },
  {
   "cell_type": "code",
   "execution_count": 83,
   "metadata": {},
   "outputs": [
    {
     "data": {
      "text/plain": [
       "Date\n",
       "2010-12-31    22.425476\n",
       "2011-01-03    22.481720\n",
       "2011-01-04    22.570108\n",
       "2011-01-05    22.497786\n",
       "2011-01-06    23.156651\n",
       "Name: Adj Close, dtype: float64"
      ]
     },
     "execution_count": 83,
     "metadata": {},
     "output_type": "execute_result"
    }
   ],
   "source": [
    "msft_adj_sample.head()"
   ]
  },
  {
   "cell_type": "code",
   "execution_count": 116,
   "metadata": {},
   "outputs": [],
   "source": [
    "data = pd.DataFrame(msft_adj_sample, columns=['Adj Close'])"
   ]
  },
  {
   "cell_type": "code",
   "execution_count": 117,
   "metadata": {},
   "outputs": [],
   "source": [
    "data['adj_log_return'] = data['Adj Close'].pct_change()"
   ]
  },
  {
   "cell_type": "code",
   "execution_count": 734,
   "metadata": {},
   "outputs": [],
   "source": [
    "arma11garch11 = pd.read_csv(filepath_or_buffer=\"/Users/g01289358/Downloads/Models/arma11garch11Fitted.csv\",\n",
    "                           parse_dates=True)"
   ]
  },
  {
   "cell_type": "code",
   "execution_count": 735,
   "metadata": {},
   "outputs": [],
   "source": [
    "arma11garch11.index = pd.to_datetime(arma11garch11['Unnamed: 0'])"
   ]
  },
  {
   "cell_type": "code",
   "execution_count": 736,
   "metadata": {},
   "outputs": [],
   "source": [
    "arma11garch11.index.name = \"Date\""
   ]
  },
  {
   "cell_type": "code",
   "execution_count": 737,
   "metadata": {},
   "outputs": [
    {
     "data": {
      "text/plain": [
       "Index(['Unnamed: 0', 'x'], dtype='object')"
      ]
     },
     "execution_count": 737,
     "metadata": {},
     "output_type": "execute_result"
    }
   ],
   "source": [
    "arma11garch11.columns"
   ]
  },
  {
   "cell_type": "code",
   "execution_count": 738,
   "metadata": {},
   "outputs": [],
   "source": [
    "arma11garch11.drop(columns=['Unnamed: 0'], axis=1, inplace=True)"
   ]
  },
  {
   "cell_type": "code",
   "execution_count": 739,
   "metadata": {},
   "outputs": [],
   "source": [
    "arma11garch11.rename({'x': 'arma11garch11'}, axis=1, inplace=True)"
   ]
  },
  {
   "cell_type": "code",
   "execution_count": 124,
   "metadata": {
    "scrolled": true
   },
   "outputs": [],
   "source": [
    "data_0 = pd.concat([data, arma11garch11], axis=1).dropna()"
   ]
  },
  {
   "cell_type": "code",
   "execution_count": 125,
   "metadata": {},
   "outputs": [
    {
     "data": {
      "text/html": [
       "<div>\n",
       "<style scoped>\n",
       "    .dataframe tbody tr th:only-of-type {\n",
       "        vertical-align: middle;\n",
       "    }\n",
       "\n",
       "    .dataframe tbody tr th {\n",
       "        vertical-align: top;\n",
       "    }\n",
       "\n",
       "    .dataframe thead th {\n",
       "        text-align: right;\n",
       "    }\n",
       "</style>\n",
       "<table border=\"1\" class=\"dataframe\">\n",
       "  <thead>\n",
       "    <tr style=\"text-align: right;\">\n",
       "      <th></th>\n",
       "      <th>Adj Close</th>\n",
       "      <th>adj_log_return</th>\n",
       "      <th>arma11garch11</th>\n",
       "    </tr>\n",
       "    <tr>\n",
       "      <th>Date</th>\n",
       "      <th></th>\n",
       "      <th></th>\n",
       "      <th></th>\n",
       "    </tr>\n",
       "  </thead>\n",
       "  <tbody>\n",
       "    <tr>\n",
       "      <th>2020-01-17</th>\n",
       "      <td>167.100006</td>\n",
       "      <td>0.005597</td>\n",
       "      <td>0.000080</td>\n",
       "    </tr>\n",
       "    <tr>\n",
       "      <th>2020-01-21</th>\n",
       "      <td>166.500000</td>\n",
       "      <td>-0.003591</td>\n",
       "      <td>0.000064</td>\n",
       "    </tr>\n",
       "    <tr>\n",
       "      <th>2020-01-22</th>\n",
       "      <td>165.699997</td>\n",
       "      <td>-0.004805</td>\n",
       "      <td>0.000371</td>\n",
       "    </tr>\n",
       "    <tr>\n",
       "      <th>2020-01-23</th>\n",
       "      <td>166.720001</td>\n",
       "      <td>0.006156</td>\n",
       "      <td>0.000677</td>\n",
       "    </tr>\n",
       "    <tr>\n",
       "      <th>2020-01-24</th>\n",
       "      <td>165.039993</td>\n",
       "      <td>-0.010077</td>\n",
       "      <td>0.000556</td>\n",
       "    </tr>\n",
       "  </tbody>\n",
       "</table>\n",
       "</div>"
      ],
      "text/plain": [
       "             Adj Close  adj_log_return  arma11garch11\n",
       "Date                                                 \n",
       "2020-01-17  167.100006        0.005597       0.000080\n",
       "2020-01-21  166.500000       -0.003591       0.000064\n",
       "2020-01-22  165.699997       -0.004805       0.000371\n",
       "2020-01-23  166.720001        0.006156       0.000677\n",
       "2020-01-24  165.039993       -0.010077       0.000556"
      ]
     },
     "execution_count": 125,
     "metadata": {},
     "output_type": "execute_result"
    }
   ],
   "source": [
    "data_0.tail()"
   ]
  },
  {
   "cell_type": "code",
   "execution_count": 126,
   "metadata": {},
   "outputs": [
    {
     "data": {
      "text/plain": [
       "<matplotlib.collections.PathCollection at 0x1a36ceec18>"
      ]
     },
     "execution_count": 126,
     "metadata": {},
     "output_type": "execute_result"
    },
    {
     "data": {
      "image/png": "[encoded data removed]",
      "text/plain": [
       "<matplotlib.figure.Figure at 0x1a36b7b160>"
      ]
     },
     "metadata": {},
     "output_type": "display_data"
    }
   ],
   "source": [
    "plt.scatter(data_0['arma11garch11'], data_0['adj_log_return'] )"
   ]
  },
  {
   "cell_type": "code",
   "execution_count": 127,
   "metadata": {
    "scrolled": true
   },
   "outputs": [
    {
     "data": {
      "text/plain": [
       "array([[1.        , 0.03937746],\n",
       "       [0.03937746, 1.        ]])"
      ]
     },
     "execution_count": 127,
     "metadata": {},
     "output_type": "execute_result"
    }
   ],
   "source": [
    "np.corrcoef(data_0['Adj Close'], data_0['adj_log_return'])"
   ]
  },
  {
   "cell_type": "code",
   "execution_count": 128,
   "metadata": {},
   "outputs": [],
   "source": [
    "df = data_0.copy()"
   ]
  },
  {
   "cell_type": "markdown",
   "metadata": {},
   "source": [
    "## Technical indicators"
   ]
  },
  {
   "cell_type": "code",
   "execution_count": 192,
   "metadata": {},
   "outputs": [],
   "source": [
    "msft = pd.read_csv(filepath_or_buffer=\"/Users/g01289358/Downloads/technical_indicators.csv\", parse_dates=True)\n",
    "msft.index = pd.to_datetime(msft.Date, infer_datetime_format=True)"
   ]
  },
  {
   "cell_type": "code",
   "execution_count": 193,
   "metadata": {},
   "outputs": [],
   "source": [
    "msft.drop(labels=msft.columns[:5], axis=1, inplace=True)"
   ]
  },
  {
   "cell_type": "code",
   "execution_count": 194,
   "metadata": {},
   "outputs": [],
   "source": [
    "msft['Return'] = msft['Adj Close'].pct_change()"
   ]
  },
  {
   "cell_type": "code",
   "execution_count": 195,
   "metadata": {},
   "outputs": [
    {
     "data": {
      "text/plain": [
       "Index(['Adj Close', 'Volume', 'Returns', 'MACD_hist', 'STOCH', 'MA_9', 'MA_18',\n",
       "       'STD_9', 'STD_18', 'EMA_9', 'EMA_18', 'RSI', 'UpperBand', 'MiddleBand',\n",
       "       'LowerBand', 'ATR', 'MFI', 'Support', 'Resistance', 'Chaikin_OSC',\n",
       "       'Return'],\n",
       "      dtype='object')"
      ]
     },
     "execution_count": 195,
     "metadata": {},
     "output_type": "execute_result"
    }
   ],
   "source": [
    "msft.columns"
   ]
  },
  {
   "cell_type": "code",
   "execution_count": 196,
   "metadata": {},
   "outputs": [],
   "source": [
    "msft.drop(labels=['Returns','Adj Close'] , axis=1, inplace=True)"
   ]
  },
  {
   "cell_type": "code",
   "execution_count": 201,
   "metadata": {},
   "outputs": [],
   "source": [
    "msft.dropna(inplace=True)"
   ]
  },
  {
   "cell_type": "code",
   "execution_count": 202,
   "metadata": {
    "scrolled": true
   },
   "outputs": [
    {
     "data": {
      "text/html": [
       "<div>\n",
       "<style scoped>\n",
       "    .dataframe tbody tr th:only-of-type {\n",
       "        vertical-align: middle;\n",
       "    }\n",
       "\n",
       "    .dataframe tbody tr th {\n",
       "        vertical-align: top;\n",
       "    }\n",
       "\n",
       "    .dataframe thead th {\n",
       "        text-align: right;\n",
       "    }\n",
       "</style>\n",
       "<table border=\"1\" class=\"dataframe\">\n",
       "  <thead>\n",
       "    <tr style=\"text-align: right;\">\n",
       "      <th></th>\n",
       "      <th>Volume</th>\n",
       "      <th>MACD_hist</th>\n",
       "      <th>STOCH</th>\n",
       "      <th>MA_9</th>\n",
       "      <th>MA_18</th>\n",
       "      <th>STD_9</th>\n",
       "      <th>STD_18</th>\n",
       "      <th>EMA_9</th>\n",
       "      <th>EMA_18</th>\n",
       "      <th>RSI</th>\n",
       "      <th>UpperBand</th>\n",
       "      <th>MiddleBand</th>\n",
       "      <th>LowerBand</th>\n",
       "      <th>ATR</th>\n",
       "      <th>MFI</th>\n",
       "      <th>Support</th>\n",
       "      <th>Resistance</th>\n",
       "      <th>Chaikin_OSC</th>\n",
       "      <th>Return</th>\n",
       "    </tr>\n",
       "  </thead>\n",
       "  <tbody>\n",
       "    <tr>\n",
       "      <th>Volume</th>\n",
       "      <td>1.000000</td>\n",
       "      <td>-0.041521</td>\n",
       "      <td>-0.082410</td>\n",
       "      <td>-0.349267</td>\n",
       "      <td>-0.348262</td>\n",
       "      <td>-0.127606</td>\n",
       "      <td>-0.169112</td>\n",
       "      <td>-0.349424</td>\n",
       "      <td>-0.348504</td>\n",
       "      <td>-0.121877</td>\n",
       "      <td>-0.345353</td>\n",
       "      <td>-0.349886</td>\n",
       "      <td>-0.354473</td>\n",
       "      <td>0.050293</td>\n",
       "      <td>-0.060611</td>\n",
       "      <td>-0.350866</td>\n",
       "      <td>-0.341616</td>\n",
       "      <td>-0.395866</td>\n",
       "      <td>-0.006969</td>\n",
       "    </tr>\n",
       "    <tr>\n",
       "      <th>MACD_hist</th>\n",
       "      <td>-0.041521</td>\n",
       "      <td>1.000000</td>\n",
       "      <td>0.054954</td>\n",
       "      <td>0.018759</td>\n",
       "      <td>0.006390</td>\n",
       "      <td>0.039680</td>\n",
       "      <td>0.077571</td>\n",
       "      <td>0.021963</td>\n",
       "      <td>0.013865</td>\n",
       "      <td>0.393018</td>\n",
       "      <td>0.027978</td>\n",
       "      <td>0.029405</td>\n",
       "      <td>0.030877</td>\n",
       "      <td>-0.033809</td>\n",
       "      <td>0.434163</td>\n",
       "      <td>0.017675</td>\n",
       "      <td>0.018449</td>\n",
       "      <td>0.017660</td>\n",
       "      <td>0.116270</td>\n",
       "    </tr>\n",
       "    <tr>\n",
       "      <th>STOCH</th>\n",
       "      <td>-0.082410</td>\n",
       "      <td>0.054954</td>\n",
       "      <td>1.000000</td>\n",
       "      <td>0.496085</td>\n",
       "      <td>0.496486</td>\n",
       "      <td>0.543412</td>\n",
       "      <td>0.506917</td>\n",
       "      <td>0.496497</td>\n",
       "      <td>0.496824</td>\n",
       "      <td>0.056042</td>\n",
       "      <td>0.499858</td>\n",
       "      <td>0.496557</td>\n",
       "      <td>0.492951</td>\n",
       "      <td>-0.161853</td>\n",
       "      <td>0.011665</td>\n",
       "      <td>0.492987</td>\n",
       "      <td>0.502763</td>\n",
       "      <td>0.704704</td>\n",
       "      <td>0.010161</td>\n",
       "    </tr>\n",
       "    <tr>\n",
       "      <th>MA_9</th>\n",
       "      <td>-0.349267</td>\n",
       "      <td>0.018759</td>\n",
       "      <td>0.496085</td>\n",
       "      <td>1.000000</td>\n",
       "      <td>0.999821</td>\n",
       "      <td>0.752953</td>\n",
       "      <td>0.776116</td>\n",
       "      <td>0.999978</td>\n",
       "      <td>0.999902</td>\n",
       "      <td>0.106071</td>\n",
       "      <td>0.999780</td>\n",
       "      <td>0.999915</td>\n",
       "      <td>0.999699</td>\n",
       "      <td>0.108129</td>\n",
       "      <td>0.021614</td>\n",
       "      <td>0.998081</td>\n",
       "      <td>0.998521</td>\n",
       "      <td>0.608916</td>\n",
       "      <td>-0.009960</td>\n",
       "    </tr>\n",
       "    <tr>\n",
       "      <th>MA_18</th>\n",
       "      <td>-0.348262</td>\n",
       "      <td>0.006390</td>\n",
       "      <td>0.496486</td>\n",
       "      <td>0.999821</td>\n",
       "      <td>1.000000</td>\n",
       "      <td>0.754679</td>\n",
       "      <td>0.775730</td>\n",
       "      <td>0.999826</td>\n",
       "      <td>0.999964</td>\n",
       "      <td>0.096467</td>\n",
       "      <td>0.999562</td>\n",
       "      <td>0.999622</td>\n",
       "      <td>0.999329</td>\n",
       "      <td>0.109954</td>\n",
       "      <td>0.011698</td>\n",
       "      <td>0.998424</td>\n",
       "      <td>0.998822</td>\n",
       "      <td>0.609121</td>\n",
       "      <td>-0.010377</td>\n",
       "    </tr>\n",
       "    <tr>\n",
       "      <th>STD_9</th>\n",
       "      <td>-0.127606</td>\n",
       "      <td>0.039680</td>\n",
       "      <td>0.543412</td>\n",
       "      <td>0.752953</td>\n",
       "      <td>0.754679</td>\n",
       "      <td>1.000000</td>\n",
       "      <td>0.872394</td>\n",
       "      <td>0.753483</td>\n",
       "      <td>0.754816</td>\n",
       "      <td>0.005805</td>\n",
       "      <td>0.761938</td>\n",
       "      <td>0.753055</td>\n",
       "      <td>0.743557</td>\n",
       "      <td>0.296629</td>\n",
       "      <td>-0.000071</td>\n",
       "      <td>0.749004</td>\n",
       "      <td>0.769360</td>\n",
       "      <td>0.485753</td>\n",
       "      <td>-0.010896</td>\n",
       "    </tr>\n",
       "    <tr>\n",
       "      <th>STD_18</th>\n",
       "      <td>-0.169112</td>\n",
       "      <td>0.077571</td>\n",
       "      <td>0.506917</td>\n",
       "      <td>0.776116</td>\n",
       "      <td>0.775730</td>\n",
       "      <td>0.872394</td>\n",
       "      <td>1.000000</td>\n",
       "      <td>0.776118</td>\n",
       "      <td>0.776423</td>\n",
       "      <td>0.034798</td>\n",
       "      <td>0.781796</td>\n",
       "      <td>0.776188</td>\n",
       "      <td>0.770086</td>\n",
       "      <td>0.337082</td>\n",
       "      <td>0.028789</td>\n",
       "      <td>0.766017</td>\n",
       "      <td>0.792429</td>\n",
       "      <td>0.491819</td>\n",
       "      <td>-0.014078</td>\n",
       "    </tr>\n",
       "    <tr>\n",
       "      <th>EMA_9</th>\n",
       "      <td>-0.349424</td>\n",
       "      <td>0.021963</td>\n",
       "      <td>0.496497</td>\n",
       "      <td>0.999978</td>\n",
       "      <td>0.999826</td>\n",
       "      <td>0.753483</td>\n",
       "      <td>0.776118</td>\n",
       "      <td>1.000000</td>\n",
       "      <td>0.999918</td>\n",
       "      <td>0.107146</td>\n",
       "      <td>0.999823</td>\n",
       "      <td>0.999954</td>\n",
       "      <td>0.999734</td>\n",
       "      <td>0.108048</td>\n",
       "      <td>0.022049</td>\n",
       "      <td>0.998137</td>\n",
       "      <td>0.998577</td>\n",
       "      <td>0.609002</td>\n",
       "      <td>-0.009092</td>\n",
       "    </tr>\n",
       "    <tr>\n",
       "      <th>EMA_18</th>\n",
       "      <td>-0.348504</td>\n",
       "      <td>0.013865</td>\n",
       "      <td>0.496824</td>\n",
       "      <td>0.999902</td>\n",
       "      <td>0.999964</td>\n",
       "      <td>0.754816</td>\n",
       "      <td>0.776423</td>\n",
       "      <td>0.999918</td>\n",
       "      <td>1.000000</td>\n",
       "      <td>0.098785</td>\n",
       "      <td>0.999698</td>\n",
       "      <td>0.999771</td>\n",
       "      <td>0.999490</td>\n",
       "      <td>0.109727</td>\n",
       "      <td>0.015157</td>\n",
       "      <td>0.998515</td>\n",
       "      <td>0.998903</td>\n",
       "      <td>0.609215</td>\n",
       "      <td>-0.009873</td>\n",
       "    </tr>\n",
       "    <tr>\n",
       "      <th>RSI</th>\n",
       "      <td>-0.121877</td>\n",
       "      <td>0.393018</td>\n",
       "      <td>0.056042</td>\n",
       "      <td>0.106071</td>\n",
       "      <td>0.096467</td>\n",
       "      <td>0.005805</td>\n",
       "      <td>0.034798</td>\n",
       "      <td>0.107146</td>\n",
       "      <td>0.098785</td>\n",
       "      <td>1.000000</td>\n",
       "      <td>0.109173</td>\n",
       "      <td>0.111722</td>\n",
       "      <td>0.114330</td>\n",
       "      <td>-0.163279</td>\n",
       "      <td>0.744473</td>\n",
       "      <td>0.083210</td>\n",
       "      <td>0.082315</td>\n",
       "      <td>0.074534</td>\n",
       "      <td>0.290073</td>\n",
       "    </tr>\n",
       "    <tr>\n",
       "      <th>UpperBand</th>\n",
       "      <td>-0.345353</td>\n",
       "      <td>0.027978</td>\n",
       "      <td>0.499858</td>\n",
       "      <td>0.999780</td>\n",
       "      <td>0.999562</td>\n",
       "      <td>0.761938</td>\n",
       "      <td>0.781796</td>\n",
       "      <td>0.999823</td>\n",
       "      <td>0.999698</td>\n",
       "      <td>0.109173</td>\n",
       "      <td>1.000000</td>\n",
       "      <td>0.999832</td>\n",
       "      <td>0.999302</td>\n",
       "      <td>0.112247</td>\n",
       "      <td>0.025249</td>\n",
       "      <td>0.997732</td>\n",
       "      <td>0.998648</td>\n",
       "      <td>0.609607</td>\n",
       "      <td>-0.009246</td>\n",
       "    </tr>\n",
       "    <tr>\n",
       "      <th>MiddleBand</th>\n",
       "      <td>-0.349886</td>\n",
       "      <td>0.029405</td>\n",
       "      <td>0.496557</td>\n",
       "      <td>0.999915</td>\n",
       "      <td>0.999622</td>\n",
       "      <td>0.753055</td>\n",
       "      <td>0.776188</td>\n",
       "      <td>0.999954</td>\n",
       "      <td>0.999771</td>\n",
       "      <td>0.111722</td>\n",
       "      <td>0.999832</td>\n",
       "      <td>1.000000</td>\n",
       "      <td>0.999819</td>\n",
       "      <td>0.107200</td>\n",
       "      <td>0.026318</td>\n",
       "      <td>0.997882</td>\n",
       "      <td>0.998340</td>\n",
       "      <td>0.608862</td>\n",
       "      <td>-0.009339</td>\n",
       "    </tr>\n",
       "    <tr>\n",
       "      <th>LowerBand</th>\n",
       "      <td>-0.354473</td>\n",
       "      <td>0.030877</td>\n",
       "      <td>0.492951</td>\n",
       "      <td>0.999699</td>\n",
       "      <td>0.999329</td>\n",
       "      <td>0.743557</td>\n",
       "      <td>0.770086</td>\n",
       "      <td>0.999734</td>\n",
       "      <td>0.999490</td>\n",
       "      <td>0.114330</td>\n",
       "      <td>0.999302</td>\n",
       "      <td>0.999819</td>\n",
       "      <td>1.000000</td>\n",
       "      <td>0.101918</td>\n",
       "      <td>0.027420</td>\n",
       "      <td>0.997681</td>\n",
       "      <td>0.997665</td>\n",
       "      <td>0.607870</td>\n",
       "      <td>-0.009432</td>\n",
       "    </tr>\n",
       "    <tr>\n",
       "      <th>ATR</th>\n",
       "      <td>0.050293</td>\n",
       "      <td>-0.033809</td>\n",
       "      <td>-0.161853</td>\n",
       "      <td>0.108129</td>\n",
       "      <td>0.109954</td>\n",
       "      <td>0.296629</td>\n",
       "      <td>0.337082</td>\n",
       "      <td>0.108048</td>\n",
       "      <td>0.109727</td>\n",
       "      <td>-0.163279</td>\n",
       "      <td>0.112247</td>\n",
       "      <td>0.107200</td>\n",
       "      <td>0.101918</td>\n",
       "      <td>1.000000</td>\n",
       "      <td>-0.072222</td>\n",
       "      <td>0.099416</td>\n",
       "      <td>0.131396</td>\n",
       "      <td>-0.159441</td>\n",
       "      <td>-0.034217</td>\n",
       "    </tr>\n",
       "    <tr>\n",
       "      <th>MFI</th>\n",
       "      <td>-0.060611</td>\n",
       "      <td>0.434163</td>\n",
       "      <td>0.011665</td>\n",
       "      <td>0.021614</td>\n",
       "      <td>0.011698</td>\n",
       "      <td>-0.000071</td>\n",
       "      <td>0.028789</td>\n",
       "      <td>0.022049</td>\n",
       "      <td>0.015157</td>\n",
       "      <td>0.744473</td>\n",
       "      <td>0.025249</td>\n",
       "      <td>0.026318</td>\n",
       "      <td>0.027420</td>\n",
       "      <td>-0.072222</td>\n",
       "      <td>1.000000</td>\n",
       "      <td>0.004745</td>\n",
       "      <td>0.007912</td>\n",
       "      <td>-0.003007</td>\n",
       "      <td>0.150735</td>\n",
       "    </tr>\n",
       "    <tr>\n",
       "      <th>Support</th>\n",
       "      <td>-0.350866</td>\n",
       "      <td>0.017675</td>\n",
       "      <td>0.492987</td>\n",
       "      <td>0.998081</td>\n",
       "      <td>0.998424</td>\n",
       "      <td>0.749004</td>\n",
       "      <td>0.766017</td>\n",
       "      <td>0.998137</td>\n",
       "      <td>0.998515</td>\n",
       "      <td>0.083210</td>\n",
       "      <td>0.997732</td>\n",
       "      <td>0.997882</td>\n",
       "      <td>0.997681</td>\n",
       "      <td>0.099416</td>\n",
       "      <td>0.004745</td>\n",
       "      <td>1.000000</td>\n",
       "      <td>0.997430</td>\n",
       "      <td>0.607661</td>\n",
       "      <td>-0.009292</td>\n",
       "    </tr>\n",
       "    <tr>\n",
       "      <th>Resistance</th>\n",
       "      <td>-0.341616</td>\n",
       "      <td>0.018449</td>\n",
       "      <td>0.502763</td>\n",
       "      <td>0.998521</td>\n",
       "      <td>0.998822</td>\n",
       "      <td>0.769360</td>\n",
       "      <td>0.792429</td>\n",
       "      <td>0.998577</td>\n",
       "      <td>0.998903</td>\n",
       "      <td>0.082315</td>\n",
       "      <td>0.998648</td>\n",
       "      <td>0.998340</td>\n",
       "      <td>0.997665</td>\n",
       "      <td>0.131396</td>\n",
       "      <td>0.007912</td>\n",
       "      <td>0.997430</td>\n",
       "      <td>1.000000</td>\n",
       "      <td>0.610022</td>\n",
       "      <td>-0.009404</td>\n",
       "    </tr>\n",
       "    <tr>\n",
       "      <th>Chaikin_OSC</th>\n",
       "      <td>-0.395866</td>\n",
       "      <td>0.017660</td>\n",
       "      <td>0.704704</td>\n",
       "      <td>0.608916</td>\n",
       "      <td>0.609121</td>\n",
       "      <td>0.485753</td>\n",
       "      <td>0.491819</td>\n",
       "      <td>0.609002</td>\n",
       "      <td>0.609215</td>\n",
       "      <td>0.074534</td>\n",
       "      <td>0.609607</td>\n",
       "      <td>0.608862</td>\n",
       "      <td>0.607870</td>\n",
       "      <td>-0.159441</td>\n",
       "      <td>-0.003007</td>\n",
       "      <td>0.607661</td>\n",
       "      <td>0.610022</td>\n",
       "      <td>1.000000</td>\n",
       "      <td>0.013217</td>\n",
       "    </tr>\n",
       "    <tr>\n",
       "      <th>Return</th>\n",
       "      <td>-0.006969</td>\n",
       "      <td>0.116270</td>\n",
       "      <td>0.010161</td>\n",
       "      <td>-0.009960</td>\n",
       "      <td>-0.010377</td>\n",
       "      <td>-0.010896</td>\n",
       "      <td>-0.014078</td>\n",
       "      <td>-0.009092</td>\n",
       "      <td>-0.009873</td>\n",
       "      <td>0.290073</td>\n",
       "      <td>-0.009246</td>\n",
       "      <td>-0.009339</td>\n",
       "      <td>-0.009432</td>\n",
       "      <td>-0.034217</td>\n",
       "      <td>0.150735</td>\n",
       "      <td>-0.009292</td>\n",
       "      <td>-0.009404</td>\n",
       "      <td>0.013217</td>\n",
       "      <td>1.000000</td>\n",
       "    </tr>\n",
       "  </tbody>\n",
       "</table>\n",
       "</div>"
      ],
      "text/plain": [
       "               Volume  MACD_hist     STOCH      MA_9     MA_18     STD_9  \\\n",
       "Volume       1.000000  -0.041521 -0.082410 -0.349267 -0.348262 -0.127606   \n",
       "MACD_hist   -0.041521   1.000000  0.054954  0.018759  0.006390  0.039680   \n",
       "STOCH       -0.082410   0.054954  1.000000  0.496085  0.496486  0.543412   \n",
       "MA_9        -0.349267   0.018759  0.496085  1.000000  0.999821  0.752953   \n",
       "MA_18       -0.348262   0.006390  0.496486  0.999821  1.000000  0.754679   \n",
       "STD_9       -0.127606   0.039680  0.543412  0.752953  0.754679  1.000000   \n",
       "STD_18      -0.169112   0.077571  0.506917  0.776116  0.775730  0.872394   \n",
       "EMA_9       -0.349424   0.021963  0.496497  0.999978  0.999826  0.753483   \n",
       "EMA_18      -0.348504   0.013865  0.496824  0.999902  0.999964  0.754816   \n",
       "RSI         -0.121877   0.393018  0.056042  0.106071  0.096467  0.005805   \n",
       "UpperBand   -0.345353   0.027978  0.499858  0.999780  0.999562  0.761938   \n",
       "MiddleBand  -0.349886   0.029405  0.496557  0.999915  0.999622  0.753055   \n",
       "LowerBand   -0.354473   0.030877  0.492951  0.999699  0.999329  0.743557   \n",
       "ATR          0.050293  -0.033809 -0.161853  0.108129  0.109954  0.296629   \n",
       "MFI         -0.060611   0.434163  0.011665  0.021614  0.011698 -0.000071   \n",
       "Support     -0.350866   0.017675  0.492987  0.998081  0.998424  0.749004   \n",
       "Resistance  -0.341616   0.018449  0.502763  0.998521  0.998822  0.769360   \n",
       "Chaikin_OSC -0.395866   0.017660  0.704704  0.608916  0.609121  0.485753   \n",
       "Return      -0.006969   0.116270  0.010161 -0.009960 -0.010377 -0.010896   \n",
       "\n",
       "               STD_18     EMA_9    EMA_18       RSI  UpperBand  MiddleBand  \\\n",
       "Volume      -0.169112 -0.349424 -0.348504 -0.121877  -0.345353   -0.349886   \n",
       "MACD_hist    0.077571  0.021963  0.013865  0.393018   0.027978    0.029405   \n",
       "STOCH        0.506917  0.496497  0.496824  0.056042   0.499858    0.496557   \n",
       "MA_9         0.776116  0.999978  0.999902  0.106071   0.999780    0.999915   \n",
       "MA_18        0.775730  0.999826  0.999964  0.096467   0.999562    0.999622   \n",
       "STD_9        0.872394  0.753483  0.754816  0.005805   0.761938    0.753055   \n",
       "STD_18       1.000000  0.776118  0.776423  0.034798   0.781796    0.776188   \n",
       "EMA_9        0.776118  1.000000  0.999918  0.107146   0.999823    0.999954   \n",
       "EMA_18       0.776423  0.999918  1.000000  0.098785   0.999698    0.999771   \n",
       "RSI          0.034798  0.107146  0.098785  1.000000   0.109173    0.111722   \n",
       "UpperBand    0.781796  0.999823  0.999698  0.109173   1.000000    0.999832   \n",
       "MiddleBand   0.776188  0.999954  0.999771  0.111722   0.999832    1.000000   \n",
       "LowerBand    0.770086  0.999734  0.999490  0.114330   0.999302    0.999819   \n",
       "ATR          0.337082  0.108048  0.109727 -0.163279   0.112247    0.107200   \n",
       "MFI          0.028789  0.022049  0.015157  0.744473   0.025249    0.026318   \n",
       "Support      0.766017  0.998137  0.998515  0.083210   0.997732    0.997882   \n",
       "Resistance   0.792429  0.998577  0.998903  0.082315   0.998648    0.998340   \n",
       "Chaikin_OSC  0.491819  0.609002  0.609215  0.074534   0.609607    0.608862   \n",
       "Return      -0.014078 -0.009092 -0.009873  0.290073  -0.009246   -0.009339   \n",
       "\n",
       "             LowerBand       ATR       MFI   Support  Resistance  Chaikin_OSC  \\\n",
       "Volume       -0.354473  0.050293 -0.060611 -0.350866   -0.341616    -0.395866   \n",
       "MACD_hist     0.030877 -0.033809  0.434163  0.017675    0.018449     0.017660   \n",
       "STOCH         0.492951 -0.161853  0.011665  0.492987    0.502763     0.704704   \n",
       "MA_9          0.999699  0.108129  0.021614  0.998081    0.998521     0.608916   \n",
       "MA_18         0.999329  0.109954  0.011698  0.998424    0.998822     0.609121   \n",
       "STD_9         0.743557  0.296629 -0.000071  0.749004    0.769360     0.485753   \n",
       "STD_18        0.770086  0.337082  0.028789  0.766017    0.792429     0.491819   \n",
       "EMA_9         0.999734  0.108048  0.022049  0.998137    0.998577     0.609002   \n",
       "EMA_18        0.999490  0.109727  0.015157  0.998515    0.998903     0.609215   \n",
       "RSI           0.114330 -0.163279  0.744473  0.083210    0.082315     0.074534   \n",
       "UpperBand     0.999302  0.112247  0.025249  0.997732    0.998648     0.609607   \n",
       "MiddleBand    0.999819  0.107200  0.026318  0.997882    0.998340     0.608862   \n",
       "LowerBand     1.000000  0.101918  0.027420  0.997681    0.997665     0.607870   \n",
       "ATR           0.101918  1.000000 -0.072222  0.099416    0.131396    -0.159441   \n",
       "MFI           0.027420 -0.072222  1.000000  0.004745    0.007912    -0.003007   \n",
       "Support       0.997681  0.099416  0.004745  1.000000    0.997430     0.607661   \n",
       "Resistance    0.997665  0.131396  0.007912  0.997430    1.000000     0.610022   \n",
       "Chaikin_OSC   0.607870 -0.159441 -0.003007  0.607661    0.610022     1.000000   \n",
       "Return       -0.009432 -0.034217  0.150735 -0.009292   -0.009404     0.013217   \n",
       "\n",
       "               Return  \n",
       "Volume      -0.006969  \n",
       "MACD_hist    0.116270  \n",
       "STOCH        0.010161  \n",
       "MA_9        -0.009960  \n",
       "MA_18       -0.010377  \n",
       "STD_9       -0.010896  \n",
       "STD_18      -0.014078  \n",
       "EMA_9       -0.009092  \n",
       "EMA_18      -0.009873  \n",
       "RSI          0.290073  \n",
       "UpperBand   -0.009246  \n",
       "MiddleBand  -0.009339  \n",
       "LowerBand   -0.009432  \n",
       "ATR         -0.034217  \n",
       "MFI          0.150735  \n",
       "Support     -0.009292  \n",
       "Resistance  -0.009404  \n",
       "Chaikin_OSC  0.013217  \n",
       "Return       1.000000  "
      ]
     },
     "execution_count": 202,
     "metadata": {},
     "output_type": "execute_result"
    }
   ],
   "source": [
    "msft.corr()"
   ]
  },
  {
   "cell_type": "code",
   "execution_count": 553,
   "metadata": {},
   "outputs": [],
   "source": [
    "mu, std = np.round(msft.Return.mean(),3), np.round(msft.Return.std(),3)\n",
    "sell_thresh = np.round(mu - 1*std,3)\n",
    "buy_thresh = np.round(mu + 1*std,3)"
   ]
  },
  {
   "cell_type": "code",
   "execution_count": 554,
   "metadata": {},
   "outputs": [
    {
     "data": {
      "image/png": "[encoded data removed]",
      "text/plain": [
       "<matplotlib.figure.Figure at 0x1c2d557048>"
      ]
     },
     "metadata": {},
     "output_type": "display_data"
    }
   ],
   "source": [
    "plt.figure(figsize=(12,8))\n",
    "plt.hist(bins=50, x=msft['Return'])\n",
    "plt.xticks(np.linspace(-0.15, 0.15, 5))\n",
    "plt.vlines(x=[buy_thresh, sell_thresh], ymax=2000, ymin=0, colors=['green', 'red'])\n",
    "plt.text(s = \"mu={}, std={},\\n sell_thresh={}, buy_thresh={}\".format(mu,std, sell_thresh,buy_thresh), y=1500, x=-0.3)\n",
    "plt.xlabel('MSFT Log Returns')\n",
    "plt.title('MSFT Buy and Sell Thresholds for Log Return of Adj Close')\n",
    "plt.show()"
   ]
  },
  {
   "cell_type": "code",
   "execution_count": 955,
   "metadata": {},
   "outputs": [
    {
     "data": {
      "image/png": "[encoded data removed]",
      "text/plain": [
       "<matplotlib.figure.Figure at 0x1a49ddfeb8>"
      ]
     },
     "metadata": {},
     "output_type": "display_data"
    }
   ],
   "source": [
    "plt.figure(figsize=(12,8))\n",
    "plt.plot(msft.Return, c='lightgrey')\n",
    "plt.hlines(y=[buy_thresh, sell_thresh], xmin=msft.index[0], xmax=msft.index[-1], colors=['green', 'red'])\n",
    "plt.title(\"MSFT Daily log-return of Adj Closing Price with buy and sell signal\")\n",
    "#plt.text(x=2009, y=-0.2, s=\"#doNothing={} #buy={}  #sell={}\".format(signal_counts[0], signal_counts[1],signal_counts[0]))\n",
    "plt.show()"
   ]
  },
  {
   "cell_type": "code",
   "execution_count": 423,
   "metadata": {},
   "outputs": [],
   "source": [
    "def f(row):\n",
    "    if row['Return'] > buy_thresh:\n",
    "        return 1\n",
    "    elif row['Return'] < sell_thresh:\n",
    "        return -1\n",
    "    else:\n",
    "        return 0"
   ]
  },
  {
   "cell_type": "code",
   "execution_count": 556,
   "metadata": {},
   "outputs": [],
   "source": [
    "msft['signal'] = msft.apply(f, axis=1)"
   ]
  },
  {
   "cell_type": "code",
   "execution_count": 956,
   "metadata": {},
   "outputs": [
    {
     "data": {
      "text/plain": [
       " 0    6552\n",
       " 1     997\n",
       "-1     933\n",
       "Name: signal, dtype: int64"
      ]
     },
     "execution_count": 956,
     "metadata": {},
     "output_type": "execute_result"
    }
   ],
   "source": [
    "msft.signal.value_counts()"
   ]
  },
  {
   "cell_type": "code",
   "execution_count": 942,
   "metadata": {},
   "outputs": [],
   "source": [
    "signal_counts=list(msft.signal.value_counts())"
   ]
  },
  {
   "cell_type": "code",
   "execution_count": 943,
   "metadata": {},
   "outputs": [
    {
     "data": {
      "text/plain": [
       "[6552, 997, 933]"
      ]
     },
     "execution_count": 943,
     "metadata": {},
     "output_type": "execute_result"
    }
   ],
   "source": [
    "signal_counts"
   ]
  },
  {
   "cell_type": "code",
   "execution_count": 272,
   "metadata": {
    "scrolled": true
   },
   "outputs": [
    {
     "data": {
      "text/plain": [
       "Index(['Volume', 'MACD_hist', 'STOCH', 'MA_9', 'MA_18', 'STD_9', 'STD_18',\n",
       "       'EMA_9', 'EMA_18', 'RSI', 'UpperBand', 'MiddleBand', 'LowerBand', 'ATR',\n",
       "       'MFI', 'Support', 'Resistance', 'Chaikin_OSC', 'Return', 'signal'],\n",
       "      dtype='object')"
      ]
     },
     "execution_count": 272,
     "metadata": {},
     "output_type": "execute_result"
    }
   ],
   "source": [
    "msft.columns"
   ]
  },
  {
   "cell_type": "code",
   "execution_count": 562,
   "metadata": {},
   "outputs": [],
   "source": [
    "training_data = msft[:'2017-12-31'].drop('Return',axis=1)\n",
    "test_data = msft['2017-12-31':].drop('Return',axis=1)"
   ]
  },
  {
   "cell_type": "markdown",
   "metadata": {},
   "source": [
    "## Scaling the features"
   ]
  },
  {
   "cell_type": "code",
   "execution_count": 439,
   "metadata": {},
   "outputs": [],
   "source": [
    "from sklearn.preprocessing import StandardScaler"
   ]
  },
  {
   "cell_type": "code",
   "execution_count": 532,
   "metadata": {},
   "outputs": [
    {
     "data": {
      "text/plain": [
       "StandardScaler(copy=True, with_mean=True, with_std=True)"
      ]
     },
     "execution_count": 532,
     "metadata": {},
     "output_type": "execute_result"
    }
   ],
   "source": [
    "scaler = StandardScaler()\n",
    "scaler.fit(training_data.drop(['signal'],axis=1))"
   ]
  },
  {
   "cell_type": "code",
   "execution_count": 533,
   "metadata": {},
   "outputs": [],
   "source": [
    "training_df = scaler.transform(training_data.drop(['signal'],axis=1))"
   ]
  },
  {
   "cell_type": "code",
   "execution_count": 535,
   "metadata": {},
   "outputs": [],
   "source": [
    "test_df = scaler.transform(test_data.drop(['signal'], axis=1))"
   ]
  },
  {
   "cell_type": "markdown",
   "metadata": {},
   "source": [
    "## Adding lag values"
   ]
  },
  {
   "cell_type": "code",
   "execution_count": 622,
   "metadata": {},
   "outputs": [],
   "source": [
    "msft['lagreturn1'] = msft.Return.shift(1)\n",
    "msft['lagreturn2'] = msft.Return.shift(2)\n"
   ]
  },
  {
   "cell_type": "code",
   "execution_count": 623,
   "metadata": {
    "scrolled": true
   },
   "outputs": [
    {
     "data": {
      "text/plain": [
       "Index(['Volume', 'MACD_hist', 'STOCH', 'MA_9', 'MA_18', 'STD_9', 'STD_18',\n",
       "       'EMA_9', 'EMA_18', 'RSI', 'UpperBand', 'MiddleBand', 'LowerBand', 'ATR',\n",
       "       'MFI', 'Support', 'Resistance', 'Chaikin_OSC', 'Return', 'signal',\n",
       "       'lagreturn1', 'lagreturn2'],\n",
       "      dtype='object')"
      ]
     },
     "execution_count": 623,
     "metadata": {},
     "output_type": "execute_result"
    }
   ],
   "source": [
    "msft.columns"
   ]
  },
  {
   "cell_type": "code",
   "execution_count": 638,
   "metadata": {},
   "outputs": [],
   "source": [
    "from sklearn.feature_selection import mutual_info_classif"
   ]
  },
  {
   "cell_type": "code",
   "execution_count": 642,
   "metadata": {},
   "outputs": [],
   "source": [
    "msft.dropna(inplace=True)"
   ]
  },
  {
   "cell_type": "code",
   "execution_count": 644,
   "metadata": {},
   "outputs": [
    {
     "data": {
      "text/plain": [
       "Index(['Volume', 'MACD_hist', 'STOCH', 'MA_9', 'MA_18', 'STD_9', 'STD_18',\n",
       "       'EMA_9', 'EMA_18', 'RSI', 'UpperBand', 'MiddleBand', 'LowerBand', 'ATR',\n",
       "       'MFI', 'Support', 'Resistance', 'Chaikin_OSC', 'Return', 'signal',\n",
       "       'lagreturn1', 'lagreturn2'],\n",
       "      dtype='object')"
      ]
     },
     "execution_count": 644,
     "metadata": {},
     "output_type": "execute_result"
    }
   ],
   "source": [
    "msft.columns"
   ]
  },
  {
   "cell_type": "code",
   "execution_count": 676,
   "metadata": {
    "scrolled": true
   },
   "outputs": [],
   "source": [
    "mut_info =pd.DataFrame(mutual_info_classif(msft.drop(['signal','Return'], axis=1), msft.signal),\n",
    "          index=msft.drop(['signal','Return'],axis=1).columns)\n",
    "\n"
   ]
  },
  {
   "cell_type": "code",
   "execution_count": 680,
   "metadata": {},
   "outputs": [],
   "source": [
    "mut_info.columns = ['MI']"
   ]
  },
  {
   "cell_type": "code",
   "execution_count": 701,
   "metadata": {},
   "outputs": [
    {
     "data": {
      "text/plain": [
       "Volume         0.092397\n",
       "Resistance     0.069704\n",
       "Support        0.057400\n",
       "MA_18          0.036623\n",
       "ATR            0.035702\n",
       "EMA_18         0.034085\n",
       "RSI            0.033433\n",
       "MiddleBand     0.032146\n",
       "Chaikin_OSC    0.031528\n",
       "UpperBand      0.031415\n",
       "LowerBand      0.030867\n",
       "EMA_9          0.030394\n",
       "MA_9           0.027664\n",
       "STOCH          0.023655\n",
       "lagreturn1     0.017467\n",
       "lagreturn2     0.014418\n",
       "STD_18         0.014185\n",
       "STD_9          0.013745\n",
       "MACD_hist      0.012784\n",
       "MFI            0.005832\n",
       "dtype: float64"
      ]
     },
     "execution_count": 701,
     "metadata": {},
     "output_type": "execute_result"
    }
   ],
   "source": [
    "pd.Series(mut_info.to_dict()['MI']).sort_values(ascending=False)"
   ]
  },
  {
   "cell_type": "code",
   "execution_count": 624,
   "metadata": {},
   "outputs": [],
   "source": [
    "training_data_2 = msft.drop(['Return'],axis=1)[:'2017-12-31']\n",
    "test_data_2 = msft.drop(['Return'],axis=1)['2017-12-31':]"
   ]
  },
  {
   "cell_type": "code",
   "execution_count": 625,
   "metadata": {},
   "outputs": [],
   "source": [
    "training_data_2.dropna(inplace=True)"
   ]
  },
  {
   "cell_type": "code",
   "execution_count": 626,
   "metadata": {},
   "outputs": [],
   "source": [
    "scaler_2 = StandardScaler()\n",
    "training_data_2_scaled = scaler_2.fit_transform(training_data_2.drop('signal', axis=1))"
   ]
  },
  {
   "cell_type": "code",
   "execution_count": 627,
   "metadata": {},
   "outputs": [],
   "source": [
    "test_data_2_scaled = scaler_2.transform(test_data_2.drop('signal',axis=1))"
   ]
  },
  {
   "cell_type": "code",
   "execution_count": 628,
   "metadata": {},
   "outputs": [],
   "source": [
    "rf_2 = RandomForestClassifier(n_estimators=30, \n",
    "                            class_weight=training_data_2.signal.value_counts().to_dict()).fit(training_data_2_scaled, \n",
    "                                                                                   training_data_2.signal)"
   ]
  },
  {
   "cell_type": "code",
   "execution_count": 629,
   "metadata": {},
   "outputs": [],
   "source": [
    "rf_2_pred = rf_2.predict(test_data_2_scaled)\n"
   ]
  },
  {
   "cell_type": "code",
   "execution_count": 599,
   "metadata": {},
   "outputs": [
    {
     "data": {
      "text/plain": [
       " 0    445\n",
       "-1     40\n",
       " 1     30\n",
       "Name: signal, dtype: int64"
      ]
     },
     "execution_count": 599,
     "metadata": {},
     "output_type": "execute_result"
    }
   ],
   "source": [
    "test_data_2.signal.value_counts()"
   ]
  },
  {
   "cell_type": "code",
   "execution_count": 630,
   "metadata": {},
   "outputs": [
    {
     "data": {
      "text/plain": [
       " 0    477\n",
       " 1     21\n",
       "-1     17\n",
       "dtype: int64"
      ]
     },
     "execution_count": 630,
     "metadata": {},
     "output_type": "execute_result"
    }
   ],
   "source": [
    "pd.Series(rf_2_pred).value_counts()"
   ]
  },
  {
   "cell_type": "code",
   "execution_count": 631,
   "metadata": {},
   "outputs": [
    {
     "name": "stdout",
     "output_type": "stream",
     "text": [
      "              precision    recall  f1-score   support\n",
      "\n",
      "          -1       0.59      0.25      0.35        40\n",
      "           0       0.90      0.97      0.93       445\n",
      "           1       0.29      0.20      0.24        30\n",
      "\n",
      "    accuracy                           0.87       515\n",
      "   macro avg       0.59      0.47      0.51       515\n",
      "weighted avg       0.84      0.87      0.85       515\n",
      "\n"
     ]
    }
   ],
   "source": [
    "print(classification_report(test_data_2.signal, rf_2_pred))"
   ]
  },
  {
   "cell_type": "code",
   "execution_count": 572,
   "metadata": {
    "scrolled": true
   },
   "outputs": [
    {
     "name": "stdout",
     "output_type": "stream",
     "text": [
      "              precision    recall  f1-score   support\n",
      "\n",
      "          -1       0.49      0.42      0.45        40\n",
      "           0       0.91      0.96      0.93       445\n",
      "           1       0.27      0.13      0.18        30\n",
      "\n",
      "    accuracy                           0.87       515\n",
      "   macro avg       0.56      0.50      0.52       515\n",
      "weighted avg       0.84      0.87      0.85       515\n",
      "\n"
     ]
    }
   ],
   "source": [
    "print(classification_report(test_data_2.signal, rf_2_pred))"
   ]
  },
  {
   "cell_type": "markdown",
   "metadata": {},
   "source": [
    "## Feature Selection"
   ]
  },
  {
   "cell_type": "code",
   "execution_count": 750,
   "metadata": {},
   "outputs": [
    {
     "data": {
      "text/plain": [
       "Text(0,0.5,'abs. value of corr_coeff')"
      ]
     },
     "execution_count": 750,
     "metadata": {},
     "output_type": "execute_result"
    },
    {
     "data": {
      "image/png": "[encoded data removed]",
      "text/plain": [
       "<matplotlib.figure.Figure at 0x1a4200a2e8>"
      ]
     },
     "metadata": {},
     "output_type": "display_data"
    }
   ],
   "source": [
    "corr_table=pd.DataFrame(round(msft.corr()['signal'],3), columns=['signal'] )\n",
    "corr_table['abs'] = abs(corr_table['signal'])\n",
    "corr_table.sort_values('abs', ascending=False, inplace=True)\n",
    "plt.figure(figsize=(12,6))\n",
    "corr_table['abs'].plot(kind='bar', color='magenta')\n",
    "plt.title('Corr of financials with Dividend_returns')\n",
    "plt.ylabel(\"abs. value of corr_coeff\")"
   ]
  },
  {
   "cell_type": "code",
   "execution_count": 703,
   "metadata": {},
   "outputs": [
    {
     "data": {
      "text/plain": [
       "Volume         0.092388\n",
       "Resistance     0.072970\n",
       "Support        0.057707\n",
       "MA_18          0.036582\n",
       "ATR            0.035702\n",
       "EMA_18         0.034085\n",
       "RSI            0.033756\n",
       "MiddleBand     0.032163\n",
       "Chaikin_OSC    0.031528\n",
       "UpperBand      0.031379\n",
       "LowerBand      0.030905\n",
       "EMA_9          0.030394\n",
       "MA_9           0.027539\n",
       "STOCH          0.023655\n",
       "lagreturn1     0.016076\n",
       "lagreturn2     0.014522\n",
       "STD_18         0.014142\n",
       "STD_9          0.013548\n",
       "MACD_hist      0.012784\n",
       "MFI            0.005832\n",
       "dtype: float64"
      ]
     },
     "execution_count": 703,
     "metadata": {},
     "output_type": "execute_result"
    }
   ],
   "source": [
    "mut_info =pd.DataFrame(mutual_info_classif(msft.drop(['signal','Return'], axis=1), msft.signal),\n",
    "          index=msft.drop(['signal','Return'],axis=1).columns)\n",
    "mut_info.columns = ['MI']\n",
    "pd.Series(mut_info.to_dict()['MI']).sort_values(ascending=False)"
   ]
  },
  {
   "cell_type": "markdown",
   "metadata": {},
   "source": [
    "## Selecting features 'RSI' , 'MFI', 'MACD_hist' , 'lagreturn2', 'Volume', 'Resistance', 'Support'"
   ]
  },
  {
   "cell_type": "code",
   "execution_count": 704,
   "metadata": {},
   "outputs": [
    {
     "data": {
      "text/plain": [
       "Index(['Volume', 'MACD_hist', 'STOCH', 'MA_9', 'MA_18', 'STD_9', 'STD_18',\n",
       "       'EMA_9', 'EMA_18', 'RSI', 'UpperBand', 'MiddleBand', 'LowerBand', 'ATR',\n",
       "       'MFI', 'Support', 'Resistance', 'Chaikin_OSC', 'Return', 'signal',\n",
       "       'lagreturn1', 'lagreturn2'],\n",
       "      dtype='object')"
      ]
     },
     "execution_count": 704,
     "metadata": {},
     "output_type": "execute_result"
    }
   ],
   "source": [
    "msft.columns"
   ]
  },
  {
   "cell_type": "code",
   "execution_count": 709,
   "metadata": {},
   "outputs": [],
   "source": [
    "df= msft[['RSI' , 'MFI', 'MACD_hist' , 'lagreturn2', 'Volume', 'Resistance', 'Support', 'signal']]"
   ]
  },
  {
   "cell_type": "code",
   "execution_count": 710,
   "metadata": {},
   "outputs": [],
   "source": [
    "training_df = df[:'2017-12-31']\n",
    "test_df = df['2017-12-31':]"
   ]
  },
  {
   "cell_type": "code",
   "execution_count": 712,
   "metadata": {},
   "outputs": [],
   "source": [
    "X_train = training_df.drop('signal',axis=1)\n",
    "y_train = training_df.signal\n",
    "X_test = test_df.drop('signal',axis=1)\n",
    "y_test = test_df.signal"
   ]
  },
  {
   "cell_type": "code",
   "execution_count": 713,
   "metadata": {},
   "outputs": [],
   "source": [
    "X_train_scaled = scaler.fit_transform(X_train)\n",
    "X_test_scaled = scaler.transform(X_test)"
   ]
  },
  {
   "cell_type": "code",
   "execution_count": 714,
   "metadata": {},
   "outputs": [
    {
     "data": {
      "text/plain": [
       " 0    6107\n",
       " 1     967\n",
       "-1     893\n",
       "Name: signal, dtype: int64"
      ]
     },
     "execution_count": 714,
     "metadata": {},
     "output_type": "execute_result"
    }
   ],
   "source": [
    "pd.Series(y_train).value_counts()"
   ]
  },
  {
   "cell_type": "code",
   "execution_count": 715,
   "metadata": {},
   "outputs": [
    {
     "data": {
      "text/plain": [
       " 0    445\n",
       "-1     40\n",
       " 1     30\n",
       "Name: signal, dtype: int64"
      ]
     },
     "execution_count": 715,
     "metadata": {},
     "output_type": "execute_result"
    }
   ],
   "source": [
    "pd.Series(y_test).value_counts()"
   ]
  },
  {
   "cell_type": "code",
   "execution_count": 729,
   "metadata": {},
   "outputs": [],
   "source": [
    "rf_ = RandomForestClassifier(n_estimators=30, \n",
    "                            class_weight=y_train.value_counts().to_dict()).fit(X_train_scaled, y_train)"
   ]
  },
  {
   "cell_type": "code",
   "execution_count": 730,
   "metadata": {},
   "outputs": [],
   "source": [
    "rf_pred = rf_.predict(X_test_scaled)"
   ]
  },
  {
   "cell_type": "code",
   "execution_count": 731,
   "metadata": {},
   "outputs": [
    {
     "data": {
      "text/plain": [
       " 0    471\n",
       "-1     34\n",
       " 1     10\n",
       "dtype: int64"
      ]
     },
     "execution_count": 731,
     "metadata": {},
     "output_type": "execute_result"
    }
   ],
   "source": [
    "pd.Series(rf_pred).value_counts()"
   ]
  },
  {
   "cell_type": "code",
   "execution_count": 732,
   "metadata": {},
   "outputs": [
    {
     "name": "stdout",
     "output_type": "stream",
     "text": [
      "              precision    recall  f1-score   support\n",
      "\n",
      "          -1       0.53      0.45      0.49        40\n",
      "           0       0.91      0.96      0.94       445\n",
      "           1       0.40      0.13      0.20        30\n",
      "\n",
      "    accuracy                           0.88       515\n",
      "   macro avg       0.61      0.52      0.54       515\n",
      "weighted avg       0.85      0.88      0.86       515\n",
      "\n"
     ]
    }
   ],
   "source": [
    "print(classification_report(y_test, rf_pred))"
   ]
  },
  {
   "cell_type": "code",
   "execution_count": 733,
   "metadata": {
    "scrolled": true
   },
   "outputs": [
    {
     "data": {
      "text/html": [
       "<div>\n",
       "<style scoped>\n",
       "    .dataframe tbody tr th:only-of-type {\n",
       "        vertical-align: middle;\n",
       "    }\n",
       "\n",
       "    .dataframe tbody tr th {\n",
       "        vertical-align: top;\n",
       "    }\n",
       "\n",
       "    .dataframe thead th {\n",
       "        text-align: right;\n",
       "    }\n",
       "</style>\n",
       "<table border=\"1\" class=\"dataframe\">\n",
       "  <thead>\n",
       "    <tr style=\"text-align: right;\">\n",
       "      <th></th>\n",
       "      <th>Volume</th>\n",
       "      <th>MACD_hist</th>\n",
       "      <th>STOCH</th>\n",
       "      <th>MA_9</th>\n",
       "      <th>MA_18</th>\n",
       "      <th>STD_9</th>\n",
       "      <th>STD_18</th>\n",
       "      <th>EMA_9</th>\n",
       "      <th>EMA_18</th>\n",
       "      <th>RSI</th>\n",
       "      <th>...</th>\n",
       "      <th>LowerBand</th>\n",
       "      <th>ATR</th>\n",
       "      <th>MFI</th>\n",
       "      <th>Support</th>\n",
       "      <th>Resistance</th>\n",
       "      <th>Chaikin_OSC</th>\n",
       "      <th>Return</th>\n",
       "      <th>signal</th>\n",
       "      <th>lagreturn1</th>\n",
       "      <th>lagreturn2</th>\n",
       "    </tr>\n",
       "    <tr>\n",
       "      <th>Date</th>\n",
       "      <th></th>\n",
       "      <th></th>\n",
       "      <th></th>\n",
       "      <th></th>\n",
       "      <th></th>\n",
       "      <th></th>\n",
       "      <th></th>\n",
       "      <th></th>\n",
       "      <th></th>\n",
       "      <th></th>\n",
       "      <th></th>\n",
       "      <th></th>\n",
       "      <th></th>\n",
       "      <th></th>\n",
       "      <th></th>\n",
       "      <th></th>\n",
       "      <th></th>\n",
       "      <th></th>\n",
       "      <th></th>\n",
       "      <th></th>\n",
       "      <th></th>\n",
       "    </tr>\n",
       "  </thead>\n",
       "  <tbody>\n",
       "    <tr>\n",
       "      <th>1986-05-27</th>\n",
       "      <td>13881600</td>\n",
       "      <td>-0.000461</td>\n",
       "      <td>-689.094566</td>\n",
       "      <td>0.070615</td>\n",
       "      <td>0.070864</td>\n",
       "      <td>0.001121</td>\n",
       "      <td>0.000875</td>\n",
       "      <td>0.070479</td>\n",
       "      <td>0.070322</td>\n",
       "      <td>57.418424</td>\n",
       "      <td>...</td>\n",
       "      <td>0.068133</td>\n",
       "      <td>0.040229</td>\n",
       "      <td>36.887638</td>\n",
       "      <td>0.058081</td>\n",
       "      <td>0.075952</td>\n",
       "      <td>-1.988498e+09</td>\n",
       "      <td>0.032258</td>\n",
       "      <td>1</td>\n",
       "      <td>0.000000</td>\n",
       "      <td>0.000000</td>\n",
       "    </tr>\n",
       "    <tr>\n",
       "      <th>1986-05-28</th>\n",
       "      <td>15523200</td>\n",
       "      <td>-0.000214</td>\n",
       "      <td>-764.753051</td>\n",
       "      <td>0.070864</td>\n",
       "      <td>0.071019</td>\n",
       "      <td>0.001515</td>\n",
       "      <td>0.001105</td>\n",
       "      <td>0.071127</td>\n",
       "      <td>0.070680</td>\n",
       "      <td>62.643051</td>\n",
       "      <td>...</td>\n",
       "      <td>0.067016</td>\n",
       "      <td>0.040434</td>\n",
       "      <td>43.997823</td>\n",
       "      <td>0.058081</td>\n",
       "      <td>0.075952</td>\n",
       "      <td>-1.852737e+09</td>\n",
       "      <td>0.031250</td>\n",
       "      <td>1</td>\n",
       "      <td>0.032258</td>\n",
       "      <td>0.000000</td>\n",
       "    </tr>\n",
       "    <tr>\n",
       "      <th>1986-05-29</th>\n",
       "      <td>45676800</td>\n",
       "      <td>0.000048</td>\n",
       "      <td>-745.352433</td>\n",
       "      <td>0.071298</td>\n",
       "      <td>0.071267</td>\n",
       "      <td>0.002145</td>\n",
       "      <td>0.001510</td>\n",
       "      <td>0.071980</td>\n",
       "      <td>0.071176</td>\n",
       "      <td>65.959709</td>\n",
       "      <td>...</td>\n",
       "      <td>0.066946</td>\n",
       "      <td>0.040775</td>\n",
       "      <td>55.760646</td>\n",
       "      <td>0.058081</td>\n",
       "      <td>0.075952</td>\n",
       "      <td>-1.857170e+09</td>\n",
       "      <td>0.022727</td>\n",
       "      <td>1</td>\n",
       "      <td>0.031250</td>\n",
       "      <td>0.032258</td>\n",
       "    </tr>\n",
       "    <tr>\n",
       "      <th>1986-05-30</th>\n",
       "      <td>27072000</td>\n",
       "      <td>0.000376</td>\n",
       "      <td>-576.927884</td>\n",
       "      <td>0.071981</td>\n",
       "      <td>0.071701</td>\n",
       "      <td>0.003152</td>\n",
       "      <td>0.002202</td>\n",
       "      <td>0.073222</td>\n",
       "      <td>0.071914</td>\n",
       "      <td>70.570628</td>\n",
       "      <td>...</td>\n",
       "      <td>0.067432</td>\n",
       "      <td>0.041282</td>\n",
       "      <td>60.171721</td>\n",
       "      <td>0.058081</td>\n",
       "      <td>0.078186</td>\n",
       "      <td>-1.830641e+09</td>\n",
       "      <td>0.037037</td>\n",
       "      <td>1</td>\n",
       "      <td>0.022727</td>\n",
       "      <td>0.031250</td>\n",
       "    </tr>\n",
       "    <tr>\n",
       "      <th>1986-06-02</th>\n",
       "      <td>19728000</td>\n",
       "      <td>0.000407</td>\n",
       "      <td>-383.911445</td>\n",
       "      <td>0.072539</td>\n",
       "      <td>0.071981</td>\n",
       "      <td>0.003379</td>\n",
       "      <td>0.002407</td>\n",
       "      <td>0.073768</td>\n",
       "      <td>0.072339</td>\n",
       "      <td>63.306928</td>\n",
       "      <td>...</td>\n",
       "      <td>0.070457</td>\n",
       "      <td>0.041429</td>\n",
       "      <td>53.262278</td>\n",
       "      <td>0.058081</td>\n",
       "      <td>0.078186</td>\n",
       "      <td>-1.811874e+09</td>\n",
       "      <td>-0.028571</td>\n",
       "      <td>-1</td>\n",
       "      <td>0.037037</td>\n",
       "      <td>0.022727</td>\n",
       "    </tr>\n",
       "  </tbody>\n",
       "</table>\n",
       "<p>5 rows × 22 columns</p>\n",
       "</div>"
      ],
      "text/plain": [
       "              Volume  MACD_hist       STOCH      MA_9     MA_18     STD_9  \\\n",
       "Date                                                                        \n",
       "1986-05-27  13881600  -0.000461 -689.094566  0.070615  0.070864  0.001121   \n",
       "1986-05-28  15523200  -0.000214 -764.753051  0.070864  0.071019  0.001515   \n",
       "1986-05-29  45676800   0.000048 -745.352433  0.071298  0.071267  0.002145   \n",
       "1986-05-30  27072000   0.000376 -576.927884  0.071981  0.071701  0.003152   \n",
       "1986-06-02  19728000   0.000407 -383.911445  0.072539  0.071981  0.003379   \n",
       "\n",
       "              STD_18     EMA_9    EMA_18        RSI     ...      LowerBand  \\\n",
       "Date                                                    ...                  \n",
       "1986-05-27  0.000875  0.070479  0.070322  57.418424     ...       0.068133   \n",
       "1986-05-28  0.001105  0.071127  0.070680  62.643051     ...       0.067016   \n",
       "1986-05-29  0.001510  0.071980  0.071176  65.959709     ...       0.066946   \n",
       "1986-05-30  0.002202  0.073222  0.071914  70.570628     ...       0.067432   \n",
       "1986-06-02  0.002407  0.073768  0.072339  63.306928     ...       0.070457   \n",
       "\n",
       "                 ATR        MFI   Support  Resistance   Chaikin_OSC    Return  \\\n",
       "Date                                                                            \n",
       "1986-05-27  0.040229  36.887638  0.058081    0.075952 -1.988498e+09  0.032258   \n",
       "1986-05-28  0.040434  43.997823  0.058081    0.075952 -1.852737e+09  0.031250   \n",
       "1986-05-29  0.040775  55.760646  0.058081    0.075952 -1.857170e+09  0.022727   \n",
       "1986-05-30  0.041282  60.171721  0.058081    0.078186 -1.830641e+09  0.037037   \n",
       "1986-06-02  0.041429  53.262278  0.058081    0.078186 -1.811874e+09 -0.028571   \n",
       "\n",
       "            signal  lagreturn1  lagreturn2  \n",
       "Date                                        \n",
       "1986-05-27       1    0.000000    0.000000  \n",
       "1986-05-28       1    0.032258    0.000000  \n",
       "1986-05-29       1    0.031250    0.032258  \n",
       "1986-05-30       1    0.022727    0.031250  \n",
       "1986-06-02      -1    0.037037    0.022727  \n",
       "\n",
       "[5 rows x 22 columns]"
      ]
     },
     "execution_count": 733,
     "metadata": {},
     "output_type": "execute_result"
    }
   ],
   "source": [
    "msft.head()"
   ]
  },
  {
   "cell_type": "markdown",
   "metadata": {},
   "source": [
    "## ARMAGARCH added as a feature"
   ]
  },
  {
   "cell_type": "code",
   "execution_count": 747,
   "metadata": {},
   "outputs": [],
   "source": [
    "msft_= pd.concat(objs=[msft, arma11garch11], axis=1, join='inner')"
   ]
  },
  {
   "cell_type": "code",
   "execution_count": 748,
   "metadata": {},
   "outputs": [
    {
     "data": {
      "text/plain": [
       "Volume           0.092580\n",
       "Resistance       0.072986\n",
       "Support          0.055283\n",
       "MA_18            0.036704\n",
       "ATR              0.035702\n",
       "EMA_18           0.034085\n",
       "RSI              0.033412\n",
       "MiddleBand       0.032065\n",
       "UpperBand        0.031673\n",
       "Chaikin_OSC      0.031528\n",
       "LowerBand        0.030919\n",
       "EMA_9            0.030394\n",
       "MA_9             0.027879\n",
       "STOCH            0.023655\n",
       "arma11garch11    0.020880\n",
       "lagreturn1       0.016024\n",
       "lagreturn2       0.014193\n",
       "STD_18           0.014045\n",
       "STD_9            0.013839\n",
       "MACD_hist        0.012784\n",
       "MFI              0.005832\n",
       "dtype: float64"
      ]
     },
     "execution_count": 748,
     "metadata": {},
     "output_type": "execute_result"
    }
   ],
   "source": [
    "mut_info =pd.DataFrame(mutual_info_classif(msft_.drop(['signal','Return'], axis=1), msft_.signal),\n",
    "          index=msft_.drop(['signal','Return'],axis=1).columns)\n",
    "mut_info.columns = ['MI']\n",
    "pd.Series(mut_info.to_dict()['MI']).sort_values(ascending=False)"
   ]
  },
  {
   "cell_type": "code",
   "execution_count": 752,
   "metadata": {
    "scrolled": false
   },
   "outputs": [
    {
     "data": {
      "text/plain": [
       "Text(0,0.5,'abs. value of corr_coeff')"
      ]
     },
     "execution_count": 752,
     "metadata": {},
     "output_type": "execute_result"
    },
    {
     "data": {
      "image/png": "[encoded data removed]",
      "text/plain": [
       "<matplotlib.figure.Figure at 0x1a4328c160>"
      ]
     },
     "metadata": {},
     "output_type": "display_data"
    }
   ],
   "source": [
    "corr_table=pd.DataFrame(round(msft_.corr()['signal'],3), columns=['signal'] )\n",
    "corr_table['abs'] = abs(corr_table['signal'])\n",
    "corr_table.sort_values('abs', ascending=False, inplace=True)\n",
    "plt.figure(figsize=(12,6))\n",
    "corr_table['abs'].plot(kind='bar', color='magenta')\n",
    "plt.title('Corr of financials with Dividend_returns')\n",
    "plt.ylabel(\"abs. value of corr_coeff\")"
   ]
  },
  {
   "cell_type": "code",
   "execution_count": 779,
   "metadata": {},
   "outputs": [],
   "source": [
    "df_= msft_[['RSI' , 'MFI', 'MACD_hist' , 'lagreturn2', 'Volume', 'Resistance', 'Support', 'signal', 'arma11garch11']]"
   ]
  },
  {
   "cell_type": "code",
   "execution_count": 780,
   "metadata": {},
   "outputs": [],
   "source": [
    "training_df = df[:'2017-12-31']\n",
    "test_df = df['2017-12-31':]"
   ]
  },
  {
   "cell_type": "code",
   "execution_count": 781,
   "metadata": {},
   "outputs": [],
   "source": [
    "X_train = training_df.drop('signal',axis=1)\n",
    "y_train = training_df.signal\n",
    "X_test = test_df.drop('signal',axis=1)\n",
    "y_test = test_df.signal"
   ]
  },
  {
   "cell_type": "code",
   "execution_count": 782,
   "metadata": {},
   "outputs": [],
   "source": [
    "X_train_scaled = scaler.fit_transform(X_train)\n",
    "X_test_scaled = scaler.transform(X_test)"
   ]
  },
  {
   "cell_type": "code",
   "execution_count": 825,
   "metadata": {},
   "outputs": [],
   "source": [
    "rf_ = RandomForestClassifier(n_estimators=30, \n",
    "                            class_weight=\n",
    "                            y_train.value_counts().to_dict()).fit(X_train_scaled, y_train)\n"
   ]
  },
  {
   "cell_type": "code",
   "execution_count": 826,
   "metadata": {},
   "outputs": [],
   "source": [
    "rf_pred = rf_.predict(X_test_scaled)"
   ]
  },
  {
   "cell_type": "code",
   "execution_count": 827,
   "metadata": {
    "scrolled": true
   },
   "outputs": [
    {
     "data": {
      "text/plain": [
       " 0    471\n",
       "-1     36\n",
       " 1      8\n",
       "dtype: int64"
      ]
     },
     "execution_count": 827,
     "metadata": {},
     "output_type": "execute_result"
    }
   ],
   "source": [
    "pd.Series(rf_pred).value_counts()"
   ]
  },
  {
   "cell_type": "code",
   "execution_count": 828,
   "metadata": {
    "scrolled": true
   },
   "outputs": [
    {
     "name": "stdout",
     "output_type": "stream",
     "text": [
      "              precision    recall  f1-score   support\n",
      "\n",
      "          -1       0.44      0.40      0.42        40\n",
      "           0       0.90      0.95      0.93       445\n",
      "           1       0.25      0.07      0.11        30\n",
      "\n",
      "    accuracy                           0.86       515\n",
      "   macro avg       0.53      0.47      0.48       515\n",
      "weighted avg       0.83      0.86      0.84       515\n",
      "\n"
     ]
    }
   ],
   "source": [
    "print(classification_report(y_test, rf_pred))"
   ]
  },
  {
   "cell_type": "code",
   "execution_count": 829,
   "metadata": {},
   "outputs": [],
   "source": [
    "from sklearn.mixture import BayesianGaussianMixture"
   ]
  },
  {
   "cell_type": "code",
   "execution_count": 859,
   "metadata": {},
   "outputs": [],
   "source": [
    "mixture = BayesianGaussianMixture(n_components=5)"
   ]
  },
  {
   "cell_type": "code",
   "execution_count": 904,
   "metadata": {},
   "outputs": [],
   "source": [
    "df_pos =msft[['RSI' , 'MFI', 'MACD_hist' , 'lagreturn2', 'Volume', 'Resistance', 'Support', 'signal']]"
   ]
  },
  {
   "cell_type": "code",
   "execution_count": 905,
   "metadata": {},
   "outputs": [
    {
     "name": "stderr",
     "output_type": "stream",
     "text": [
      "/Users/g01289358/anaconda3/lib/python3.6/site-packages/ipykernel_launcher.py:1: SettingWithCopyWarning: \n",
      "A value is trying to be set on a copy of a slice from a DataFrame\n",
      "\n",
      "See the caveats in the documentation: http://pandas.pydata.org/pandas-docs/stable/indexing.html#indexing-view-versus-copy\n",
      "  \"\"\"Entry point for launching an IPython kernel.\n"
     ]
    }
   ],
   "source": [
    "df_pos.dropna(inplace=True)"
   ]
  },
  {
   "cell_type": "code",
   "execution_count": 885,
   "metadata": {},
   "outputs": [
    {
     "data": {
      "text/plain": [
       "(100, 22)"
      ]
     },
     "execution_count": 885,
     "metadata": {},
     "output_type": "execute_result"
    }
   ],
   "source": [
    "samples[0].shape"
   ]
  },
  {
   "cell_type": "code",
   "execution_count": 888,
   "metadata": {},
   "outputs": [],
   "source": [
    "df_pos = msft.append(pos_samples,ignore_index=True)"
   ]
  },
  {
   "cell_type": "code",
   "execution_count": 889,
   "metadata": {},
   "outputs": [
    {
     "data": {
      "text/plain": [
       " 0    6552\n",
       " 1    1097\n",
       "-1     933\n",
       "Name: signal, dtype: int64"
      ]
     },
     "execution_count": 889,
     "metadata": {},
     "output_type": "execute_result"
    }
   ],
   "source": [
    "df_pos.signal.value_counts()"
   ]
  },
  {
   "cell_type": "code",
   "execution_count": 906,
   "metadata": {},
   "outputs": [],
   "source": [
    "training_df = df_pos[:'2017-12-31']\n",
    "test_df = df['2017-12-31':]"
   ]
  },
  {
   "cell_type": "code",
   "execution_count": 907,
   "metadata": {},
   "outputs": [
    {
     "data": {
      "text/plain": [
       "BayesianGaussianMixture(covariance_prior=None, covariance_type='full',\n",
       "                        degrees_of_freedom_prior=None, init_params='kmeans',\n",
       "                        max_iter=100, mean_precision_prior=None,\n",
       "                        mean_prior=None, n_components=5, n_init=1,\n",
       "                        random_state=None, reg_covar=1e-06, tol=0.001,\n",
       "                        verbose=0, verbose_interval=10, warm_start=False,\n",
       "                        weight_concentration_prior=None,\n",
       "                        weight_concentration_prior_type='dirichlet_process')"
      ]
     },
     "execution_count": 907,
     "metadata": {},
     "output_type": "execute_result"
    }
   ],
   "source": [
    "mixture.fit(training_df[training_df['signal'] == 1])"
   ]
  },
  {
   "cell_type": "code",
   "execution_count": 908,
   "metadata": {},
   "outputs": [
    {
     "name": "stderr",
     "output_type": "stream",
     "text": [
      "/Users/g01289358/anaconda3/lib/python3.6/site-packages/sklearn/mixture/base.py:427: RuntimeWarning: covariance is not positive-semidefinite.\n",
      "  for (mean, covariance, sample) in zip(\n"
     ]
    }
   ],
   "source": [
    "samples = mixture.sample(n_samples=100)"
   ]
  },
  {
   "cell_type": "code",
   "execution_count": 910,
   "metadata": {},
   "outputs": [
    {
     "data": {
      "text/plain": [
       " 0    6107\n",
       " 1    1067\n",
       "-1     893\n",
       "Name: signal, dtype: int64"
      ]
     },
     "execution_count": 910,
     "metadata": {},
     "output_type": "execute_result"
    }
   ],
   "source": [
    "pos_samples = pd.DataFrame(samples[0], columns=list(df_pos.columns))\n",
    "pos_samples.signal = pos_samples.signal.map(lambda x: 1)\n",
    "training_df = training_df.append(pos_samples,ignore_index=True)\n",
    "training_df.signal.value_counts()"
   ]
  },
  {
   "cell_type": "code",
   "execution_count": 911,
   "metadata": {},
   "outputs": [],
   "source": [
    "X_train = training_df.drop('signal',axis=1)\n",
    "y_train = training_df.signal\n",
    "X_test = test_df.drop('signal',axis=1)\n",
    "y_test = test_df.signal"
   ]
  },
  {
   "cell_type": "code",
   "execution_count": 912,
   "metadata": {},
   "outputs": [],
   "source": [
    "X_train_scaled = scaler.fit_transform(X_train)\n",
    "X_test_scaled = scaler.transform(X_test)"
   ]
  },
  {
   "cell_type": "code",
   "execution_count": 913,
   "metadata": {},
   "outputs": [
    {
     "data": {
      "text/plain": [
       "array([[ 0.62139086,  0.17707474, -0.67362147, ..., -1.07248048,\n",
       "         3.90458012,  4.04030855],\n",
       "       [ 0.77877948,  0.19815012, -0.4697399 , ..., -0.97750191,\n",
       "         3.90458012,  4.04030855],\n",
       "       [ 1.0589961 ,  0.64868054, -0.01072781, ..., -1.08766069,\n",
       "         3.91963825,  4.04030855],\n",
       "       ...,\n",
       "       [ 1.39016835,  0.32171724,  0.94459972, ..., -1.10077812,\n",
       "         8.63728495,  8.62438102],\n",
       "       [ 1.79478909,  0.40910992,  2.25940347, ..., -1.03580159,\n",
       "         8.81008598,  8.62438102],\n",
       "       [ 1.90543358,  0.54447335,  3.2317817 , ..., -0.75687903,\n",
       "         8.86569371,  8.62438102]])"
      ]
     },
     "execution_count": 913,
     "metadata": {},
     "output_type": "execute_result"
    }
   ],
   "source": [
    "X_test_scaled"
   ]
  },
  {
   "cell_type": "code",
   "execution_count": 914,
   "metadata": {},
   "outputs": [
    {
     "data": {
      "text/plain": [
       " 0    445\n",
       "-1     40\n",
       " 1     30\n",
       "Name: signal, dtype: int64"
      ]
     },
     "execution_count": 914,
     "metadata": {},
     "output_type": "execute_result"
    }
   ],
   "source": [
    "pd.Series(y_test).value_counts()"
   ]
  },
  {
   "cell_type": "code",
   "execution_count": 915,
   "metadata": {},
   "outputs": [],
   "source": [
    "rf_ = RandomForestClassifier(n_estimators=30, \n",
    "                            class_weight=y_train.value_counts().to_dict()).fit(X_train_scaled, y_train)"
   ]
  },
  {
   "cell_type": "code",
   "execution_count": 916,
   "metadata": {},
   "outputs": [],
   "source": [
    "rf_pred = rf_.predict(X_test_scaled)"
   ]
  },
  {
   "cell_type": "code",
   "execution_count": 917,
   "metadata": {},
   "outputs": [
    {
     "data": {
      "text/plain": [
       " 0    476\n",
       "-1     33\n",
       " 1      6\n",
       "dtype: int64"
      ]
     },
     "execution_count": 917,
     "metadata": {},
     "output_type": "execute_result"
    }
   ],
   "source": [
    "pd.Series(rf_pred).value_counts()"
   ]
  },
  {
   "cell_type": "code",
   "execution_count": 918,
   "metadata": {},
   "outputs": [
    {
     "name": "stdout",
     "output_type": "stream",
     "text": [
      "              precision    recall  f1-score   support\n",
      "\n",
      "          -1       0.42      0.35      0.38        40\n",
      "           0       0.90      0.96      0.93       445\n",
      "           1       0.00      0.00      0.00        30\n",
      "\n",
      "    accuracy                           0.86       515\n",
      "   macro avg       0.44      0.44      0.44       515\n",
      "weighted avg       0.81      0.86      0.83       515\n",
      "\n"
     ]
    }
   ],
   "source": [
    "print(classification_report(y_test, rf_pred))"
   ]
  }
 ],
 "metadata": {
  "kernelspec": {
   "display_name": "Python 3",
   "language": "python",
   "name": "python3"
  },
  "language_info": {
   "codemirror_mode": {
    "name": "ipython",
    "version": 3
   },
   "file_extension": ".py",
   "mimetype": "text/x-python",
   "name": "python",
   "nbconvert_exporter": "python",
   "pygments_lexer": "ipython3",
   "version": "3.6.4"
  }
 },
 "nbformat": 4,
 "nbformat_minor": 2
}
